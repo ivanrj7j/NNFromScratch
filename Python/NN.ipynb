{
 "cells": [
  {
   "cell_type": "code",
   "execution_count": null,
   "metadata": {},
   "outputs": [],
   "source": [
    "import numpy as np"
   ]
  },
  {
   "cell_type": "code",
   "execution_count": null,
   "metadata": {},
   "outputs": [],
   "source": [
    "class Dense_layer:\n",
    "    def __init__(self,n_inputs : int  , n_neurons : int ):\n",
    "        self.weights = 0.1*np.random.randn(n_inputs , n_neurons)\n",
    "        self.biases = np.zeros((1,n_neurons))\n",
    "    def forward(self,inputs):\n",
    "        self.output = np.dot(inputs,self.weights) + self.biases\n",
    "        return self.output\n"
   ]
  },
  {
   "cell_type": "code",
   "execution_count": null,
   "metadata": {},
   "outputs": [
    {
     "name": "stdout",
     "output_type": "stream",
     "text": [
      "[[ 0.0097579  -0.00557832  0.0180162  -0.01081713 -0.03154848  0.03204411]\n",
      " [-0.0140825  -0.00546603  0.00072923  0.00939759  0.03390055 -0.00191806]\n",
      " [-0.00698194 -0.00120286 -0.00585111  0.00184719  0.00824967 -0.00591315]]\n"
     ]
    }
   ],
   "source": [
    "# input data ( X ) with 3 samples(batch size ) and 4 features(inputs) per sample  - shape(3,4)\n",
    "X = np.matrix([ [-0.05693121,  0.02699044, -0.04668455, -0.14169061],\n",
    "                   [ 0.08689635,  0.02768719, -0.09711046,  0.03148172],\n",
    "                    [ 0.08215857,  0.00052926,  0.08005648,  0.00782602]]   )\n",
    "layer1 = Dense_layer(4,6)\n",
    "layer2 = Dense_layer(6,3)\n",
    "layer1.forward(X)\n",
    "layer2.forward(layer1.output)\n",
    "print(layer1.output)"
   ]
  },
  {
   "cell_type": "code",
   "execution_count": null,
   "metadata": {},
   "outputs": [
    {
     "name": "stdout",
     "output_type": "stream",
     "text": [
      "(3, 5)\n"
     ]
    }
   ],
   "source": [
    "\n",
    "    "
   ]
  }
 ],
 "metadata": {
  "kernelspec": {
   "display_name": "Python 3",
   "language": "python",
   "name": "python3"
  },
  "language_info": {
   "codemirror_mode": {
    "name": "ipython",
    "version": 3
   },
   "file_extension": ".py",
   "mimetype": "text/x-python",
   "name": "python",
   "nbconvert_exporter": "python",
   "pygments_lexer": "ipython3",
   "version": "3.12.4"
  }
 },
 "nbformat": 4,
 "nbformat_minor": 2
}
