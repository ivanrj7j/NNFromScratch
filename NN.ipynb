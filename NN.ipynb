{
 "cells": [
  {
   "cell_type": "code",
   "execution_count": 1,
   "metadata": {},
   "outputs": [],
   "source": [
    "import numpy as np\n",
    "from src.NN import*\n",
    "from src.activation import*"
   ]
  },
  {
   "cell_type": "code",
   "execution_count": 2,
   "metadata": {},
   "outputs": [
    {
     "name": "stdout",
     "output_type": "stream",
     "text": [
      "[[-0.00555332  0.01396061  0.02083424  0.01501772 -0.00858531  0.01169559]\n",
      " [-0.0066448  -0.00961668  0.00013642 -0.02113864  0.01107102 -0.01011386]\n",
      " [ 0.00082726 -0.01326681 -0.02136112 -0.01485577  0.01916372 -0.00433848]]\n"
     ]
    }
   ],
   "source": [
    "# input data ( X ) with 3 samples(batch size ) and 4 features(inputs) per sample  - shape(3,4)\n",
    "X = np.matrix([ [-0.05693121,  0.02699044, -0.04668455, -0.14169061],\n",
    "                   [ 0.08689635,  0.02768719, -0.09711046,  0.03148172],\n",
    "                    [ 0.08215857,  0.00052926,  0.08005648,  0.00782602]]   )\n",
    "layer1 = Dense_layer(4,6)\n",
    "layer2 = Dense_layer(6,3)\n",
    "layer1.forward(X)\n",
    "layer2.forward(layer1.output)\n",
    "print(layer1.output)"
   ]
  },
  {
   "cell_type": "code",
   "execution_count": 3,
   "metadata": {},
   "outputs": [],
   "source": [
    "X = np.matrix([ [-0.05693121,  0.02699044, -0.04668455, -0.14169061],\n",
    "                   [ 0.08689635,  0.02768719, -0.09711046,  0.03148172],\n",
    "                    [ 0.08215857,  0.00052926,  0.08005648,  0.00782602]]   )\n",
    "\n",
    "\n",
    "    "
   ]
  }
 ],
 "metadata": {
  "kernelspec": {
   "display_name": "pytorchEnv",
   "language": "python",
   "name": "python3"
  },
  "language_info": {
   "codemirror_mode": {
    "name": "ipython",
    "version": 3
   },
   "file_extension": ".py",
   "mimetype": "text/x-python",
   "name": "python",
   "nbconvert_exporter": "python",
   "pygments_lexer": "ipython3",
   "version": "3.12.4"
  }
 },
 "nbformat": 4,
 "nbformat_minor": 2
}
